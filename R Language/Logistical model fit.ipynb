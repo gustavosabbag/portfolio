{
 "cells": [
  {
   "cell_type": "markdown",
   "id": "d780d1f5-dd8c-4e61-94f4-1c6801a39202",
   "metadata": {},
   "source": [
    "# Loading data"
   ]
  },
  {
   "cell_type": "code",
   "execution_count": 2,
   "id": "5e73efba-0242-4c06-8fa1-55b9da1ad21c",
   "metadata": {},
   "outputs": [],
   "source": [
    "import numpy as np\n",
    "import pandas as pd\n",
    "import sklearn.linear_model as skl\n",
    "import matplotlib.pyplot as plt\n",
    "from statsmodels.stats.outliers_influence import variance_inflation_factor\n",
    "import statsmodels.formula.api as smf\n",
    "from sklearn.preprocessing import StandardScaler\n"
   ]
  },
  {
   "cell_type": "code",
   "execution_count": 3,
   "id": "98e1df5d-862c-4703-a1a4-6ef0e6ccbd6d",
   "metadata": {},
   "outputs": [],
   "source": [
    "oferagregadocortado = pd.read_csv('Bases finais/ofestim.csv')\n",
    "oferagregadocompleto = pd.read_csv('Bases finais/ofestimfull.csv')\n",
    "bancodemanda = pd.read_csv('Bases finais/basedemandaeleitoral.csv')\n",
    "ofertacompleto = pd.read_csv('Bases finais/baseofertaeleitoral.csv')"
   ]
  },
  {
   "cell_type": "code",
   "execution_count": 7,
   "id": "d6758395-9471-4689-98c0-9c9c98f7b56e",
   "metadata": {},
   "outputs": [
    {
     "data": {
      "text/plain": [
       "(46171, 38)"
      ]
     },
     "execution_count": 7,
     "metadata": {},
     "output_type": "execute_result"
    }
   ],
   "source": [
    "ofer = ofertacompleto.copy()\n",
    "ofer = ofer[(ofer.N_apelo >=91) & (ofer.Peças_TV >=7)].reset_index(drop=True)\n",
    "ofer.shape"
   ]
  },
  {
   "cell_type": "code",
   "execution_count": 4,
   "id": "4c9f26fb-34d7-4836-b0cb-5d2355c049d5",
   "metadata": {},
   "outputs": [
    {
     "data": {
      "text/plain": [
       "(43178, 15)"
      ]
     },
     "execution_count": 4,
     "metadata": {},
     "output_type": "execute_result"
    }
   ],
   "source": [
    "dem = bancodemanda.copy()\n",
    "\n",
    "dem['peso'] = dem['peso'].replace({'Unweighted':1})\n",
    "\n",
    "\n",
    "# Recoding Trust in Parties Variable\n",
    "\n",
    "def remap_category(value):\n",
    "    if value == \"A lot\":\n",
    "        return 3\n",
    "    elif value == \"Some\":\n",
    "        return 2\n",
    "    elif value == \"A little\":\n",
    "        return 1\n",
    "    elif value == \"No confidence at all\":\n",
    "        return 0\n",
    "    else:\n",
    "        return pd.NA\n",
    "    \n",
    "def remap_category_econ(value):\n",
    "    if value == \"Very Good\":\n",
    "        return 4\n",
    "    if value == \"Good\":\n",
    "        return 3\n",
    "    elif value == \"About Average\":\n",
    "        return 2\n",
    "    elif value == \"Bad\":\n",
    "        return 1\n",
    "    elif value == \"Very Bad\":\n",
    "        return 0\n",
    "    else:\n",
    "        return pd.NA\n",
    "\n",
    "dem['conf_part2'] = dem['conf_part'].map(remap_category)\n",
    "dem['conf_cong2'] = dem['conf_cong'].map(remap_category)\n",
    "dem['conf_presi2'] = dem['conf_presi'].map(remap_category)\n",
    "dem['sit_econ2'] = dem['sit_econ'].map(remap_category_econ)\n",
    "dem['sit_econ2_invert'] = 4 - dem['sit_econ2']\n",
    "\n",
    "dem = dem.astype({'sit_econ2':'Int64','sit_econ2_invert':'Int64', 'conf_part2':'Int64', 'peso':'float64', 'ano_eleicao':'category'})\n",
    "dem.shape"
   ]
  },
  {
   "cell_type": "code",
   "execution_count": 37,
   "id": "aaa497f0-9cda-4d71-8098-4a43f4bedf1c",
   "metadata": {
    "tags": []
   },
   "outputs": [
    {
     "data": {
      "text/plain": [
       "(96, 47)"
      ]
     },
     "execution_count": 37,
     "metadata": {},
     "output_type": "execute_result"
    }
   ],
   "source": [
    "ofestimfull = oferagregadocompleto.copy()\n",
    "\n",
    "\n",
    "dem2 = dem.dropna(subset='conf_part2')\n",
    "\n",
    "agruconf = dem2.groupby(['pais', 'ano_eleicao'],  \n",
    "                           observed= False).apply(lambda x: np.average(x['conf_part2'], weights=x['peso']),\n",
    "                           include_groups=False).reset_index()\n",
    "agruconf.rename(columns={0:'conf_part2'}, inplace = True)\n",
    "\n",
    "dem2 = dem.dropna(subset='conf_cong2')\n",
    "\n",
    "agruconf1 = dem2.groupby(['pais', 'ano_eleicao'],  \n",
    "                           observed= False).apply(lambda x: np.average(x['conf_cong2'], weights=x['peso']),\n",
    "                           include_groups=False).reset_index()\n",
    "\n",
    "agruconf1.rename(columns={0:'conf_cong2'}, inplace = True)\n",
    "\n",
    "dem2 = dem.dropna(subset='conf_presi2')\n",
    "\n",
    "agruconf2 = dem2.groupby(['pais', 'ano_eleicao'],  \n",
    "                           observed= False).apply(lambda x: np.average(x['conf_presi2'], weights=x['peso']),\n",
    "                           include_groups=False).reset_index()\n",
    "\n",
    "agruconf2.rename(columns={0:'conf_presi2'}, inplace = True)\n",
    "\n",
    "dem3 = dem.dropna(subset='sit_econ2')\n",
    "\n",
    "agruecon = dem3.groupby(['pais', 'ano_eleicao'], observed=False).apply(lambda x: np.average(x['sit_econ2'], weights=x['peso']),\n",
    "                                                         include_groups=False).reset_index()\n",
    "\n",
    "agruecon.rename(columns={0:'sit_econ2'}, inplace = True)\n",
    "\n",
    "dem3 = dem.dropna(subset='sit_econ2_invert')\n",
    "\n",
    "agruecon_invert = dem3.groupby(['pais', 'ano_eleicao'], observed=False).apply(lambda x: np.average(x['sit_econ2_invert'], weights=x['peso']),\n",
    "                                                         include_groups=False).reset_index()\n",
    "\n",
    "agruecon_invert.rename(columns={0:'sit_econ2_invert'}, inplace = True)\n",
    "\n",
    "ofestimfull = pd.merge(ofestimfull, agruconf, how='left', on=['pais', 'ano_eleicao'])\n",
    "ofestimfull = pd.merge(ofestimfull, agruconf1, how='left', on=['pais', 'ano_eleicao'])\n",
    "ofestimfull = pd.merge(ofestimfull, agruconf2, how='left', on=['pais', 'ano_eleicao'])\n",
    "ofestimfull = pd.merge(ofestimfull, agruecon, how='left', on=['pais', 'ano_eleicao'])\n",
    "ofestimfull = pd.merge(ofestimfull, agruecon_invert, how='left', on=['pais', 'ano_eleicao'])\n",
    "\n",
    "# Calculating electoral stress index with economical perception\n",
    "\n",
    "ofestimfull['grau_est'] = 1 - (((ofestimfull['sit_econ2']/4) + (ofestimfull['conf_part2']/3))/2)\n",
    "ofestimfull['grau_estcong'] = 1 - (((ofestimfull['sit_econ2']/4) + (ofestimfull['conf_cong2']/3))/2)\n",
    "\n",
    "# Calculating electoral stress index with GDP variation\n",
    "\n",
    "ofestimfull['grau_estp'] = 1 - (((ofestimfull['var_anual_PIBpercapita']) + (ofestimfull['conf_part2']/3))/2)\n",
    "ofestimfull['grau_estpcong'] = 1 - (((ofestimfull['var_anual_PIBpercapita']) + (ofestimfull['conf_cong2']/3))/2)\n",
    "ofestimfull = pd.get_dummies(ofestimfull , columns = ['Situacao_oposicao'])\n",
    "ofestimfull['opind'] = [not value for value in ofestimfull.Situacao_oposicao_Situação]\n",
    "\n",
    "ofestim = ofestimfull[(ofestimfull.N_apelo >=91) & (ofestimfull.Peças_TV >=7)].reset_index(drop=True)\n",
    "#ofestim.to_csv('Bases finais/ofestim96.csv', index=False)\n",
    "ofestim.shape\n"
   ]
  },
  {
   "cell_type": "code",
   "execution_count": 583,
   "id": "0f878673-857e-4b9a-8850-fe3f5d0718b8",
   "metadata": {},
   "outputs": [
    {
     "data": {
      "text/plain": [
       "(46171, 46)"
      ]
     },
     "execution_count": 583,
     "metadata": {},
     "output_type": "execute_result"
    }
   ],
   "source": [
    "\n",
    "ofer1 = pd.merge(ofer, ofestim[['pais', 'ano_eleicao', 'candidato', 'apelos_ativos', 'neutralidade_apelo', 'IMP', \n",
    "                             'conf_part2', 'conf_cong2', 'conf_presi2', 'sit_econ2', 'grau_est']],\n",
    "              how ='left', on=['pais', 'ano_eleicao', 'candidato'])\n",
    "\n",
    "ofer1.shape"
   ]
  },
  {
   "cell_type": "code",
   "execution_count": 421,
   "id": "d928b408-b7f3-45de-85ba-f92c8a72a065",
   "metadata": {
    "tags": []
   },
   "outputs": [
    {
     "name": "stdout",
     "output_type": "stream",
     "text": [
      "dem: Index(['pais', 'ano_survey', 'ano_eleicao', 'peso', 'posi_pol', 'sit_econ',\n",
      "       'princ_prob', 'conf_cong', 'conf_part', 'conf_presi', 'conf_part2',\n",
      "       'conf_cong2', 'conf_presi2', 'sit_econ2'],\n",
      "      dtype='object') \n",
      "\n",
      " ofestim: Index(['pais', 'ano_eleicao', 'candidato', 'tipo_apelo', 'apelos_ativos',\n",
      "       'neutralidade_apelo', 'Orientacao', 'Candidato_minoria', 'Incumbente',\n",
      "       'Situacao_oposicao', 'Partidos', 'Votos_1T', 'Votos_2T', 'Peças_TV',\n",
      "       'Tempo total (minutos)', 'Tempo total (segundos)',\n",
      "       'Tempo total (HH:MM:SS)', 'Eleito', 'eleicao_2turnos',\n",
      "       'candidato_2turno', 'Link eleição', 'var_anual_PIBpercapita', 'HDI',\n",
      "       'GNI', 'inflacao_CPI', 'Gini_index', 'desemprego', 'N_apelo',\n",
      "       'dif_votos', 'polariz', 'princ_tema_maincats',\n",
      "       'princ_probelec_maincats', 'match_probtema_maincats', 'IMP',\n",
      "       'conf_part2', 'conf_cong2', 'conf_presi2', 'sit_econ2', 'grau_est'],\n",
      "      dtype='object') \n",
      "\n",
      " ofer: Index(['pais', 'ano_eleicao', 'candidato', 'Orientacao', 'Candidato_minoria',\n",
      "       'Incumbente', 'Situacao_oposicao', 'Partidos', 'Votos_1T', 'Votos_2T',\n",
      "       'Peças_TV', 'Tempo total (minutos)', 'Tempo total (segundos)',\n",
      "       'Tempo total (HH:MM:SS)', 'Eleito', 'eleicao_2turnos',\n",
      "       'candidato_2turno', 'Link eleição', 'codif', 'nome_video', 'tipo_apelo',\n",
      "       'emocao_apelo', 'musica', 'temas_completo', 'tempo_apelo_pais',\n",
      "       'tom_tempo_apelo', 'var_anual_PIBpercapita', 'HDI', 'GNI',\n",
      "       'inflacao_CPI', 'Gini_index', 'desemprego', 'N_apelo', 'dif_votos',\n",
      "       'polariz', 'princ_tema_maincats', 'princ_probelec_maincats',\n",
      "       'match_probtema_maincats', 'apelos_ativos', 'neutralidade_apelo', 'IMP',\n",
      "       'conf_part2', 'conf_cong2', 'conf_presi2', 'sit_econ2', 'grau_est'],\n",
      "      dtype='object')\n"
     ]
    }
   ],
   "source": [
    "print(f'dem: {dem.columns}', '\\n''\\n', f'ofestim: {ofestim.columns}', '\\n''\\n', f'ofer: {ofer1.columns}')"
   ]
  },
  {
   "cell_type": "markdown",
   "id": "796ca289-7db4-41bd-ae11-ce2f6953dbf6",
   "metadata": {},
   "source": [
    "# Standardizing variables"
   ]
  },
  {
   "cell_type": "code",
   "execution_count": 6,
   "id": "c5bfbee4-be60-44d9-a29b-b66956fed0a0",
   "metadata": {},
   "outputs": [],
   "source": [
    "\n",
    "# Centering the continous variables to reduce structural multicolinearity and improving standard errors \n",
    "# (https://statisticsbyjim.com/regression/multicollinearity-in-regression-analysis/)\n",
    "\n",
    "av = ofestim.copy()\n",
    "av['IMP'] = av['IMP'] - av['IMP'].mean()\n",
    "av['sit_econ2'] = av['sit_econ2'] - av['sit_econ2'].mean()\n",
    "av['sit_econ2_invert'] = av['sit_econ2_invert'] - av['sit_econ2_invert'].mean()\n",
    "av['conf_part2'] = av['conf_part2'] - av['conf_part2'].mean()\n",
    "av['conf_cong2'] = av['conf_cong2'] - av['conf_cong2'].mean()\n",
    "av['var_anual_PIBpercapita'] = av['var_anual_PIBpercapita'] - av['var_anual_PIBpercapita'].mean()\n",
    "av['Gini_index'] = av['Gini_index'] - av['Gini_index'].mean()\n",
    "\n",
    "#av = pd.get_dummies(av, columns = ['Situacao_oposicao'])\n",
    "#av['opind'] = [not value for value in av.Situacao_oposicao_Situação]\n",
    "#av.to_csv('Bases finais/av.csv', index=False)"
   ]
  },
  {
   "cell_type": "markdown",
   "id": "9f8b2510-9a68-420b-8483-385aa2eb16a1",
   "metadata": {},
   "source": [
    "# Comparing Models"
   ]
  },
  {
   "cell_type": "markdown",
   "id": "1d93926f-59f9-4cc9-b8a6-6cad230f781f",
   "metadata": {
    "tags": []
   },
   "source": [
    "## Modelos Reduzidos"
   ]
  },
  {
   "cell_type": "markdown",
   "id": "07ef768d-37f2-403f-9fe6-d8b36fcfe13e",
   "metadata": {
    "tags": []
   },
   "source": [
    "### Modelo I: grau_est - Varpib (AIC: 111.5, BIC: 131.3)"
   ]
  },
  {
   "cell_type": "code",
   "execution_count": 7,
   "id": "d41dd466-c43a-409a-bbaa-f9dd6c2627e5",
   "metadata": {},
   "outputs": [
    {
     "name": "stdout",
     "output_type": "stream",
     "text": [
      "Optimization terminated successfully.\n",
      "         Current function value: 0.542364\n",
      "         Iterations 6\n",
      "                           Logit Regression Results                           \n",
      "==============================================================================\n",
      "Dep. Variable:                 Eleito   No. Observations:                   88\n",
      "Model:                          Logit   Df Residuals:                       80\n",
      "Method:                           MLE   Df Model:                            7\n",
      "Date:                Thu, 20 Jun 2024   Pseudo R-squ.:                  0.1443\n",
      "Time:                        23:28:14   Log-Likelihood:                -47.728\n",
      "converged:                       True   LL-Null:                       -55.779\n",
      "Covariance Type:            nonrobust   LLR p-value:                   0.02420\n",
      "===========================================================================================================\n",
      "                                              coef    std err          z      P>|z|      [0.025      0.975]\n",
      "-----------------------------------------------------------------------------------------------------------\n",
      "Intercept                                  -1.7517      2.931     -0.598      0.550      -7.495       3.992\n",
      "C(opind)[T.True]                           -1.1618      0.619     -1.878      0.060      -2.374       0.051\n",
      "IMP                                         0.9727     13.993      0.070      0.945     -26.453      28.398\n",
      "grau_est                                    2.0407      4.390      0.465      0.642      -6.564      10.645\n",
      "IMP:grau_est                                0.3584     20.986      0.017      0.986     -40.774      41.490\n",
      "var_anual_PIBpercapita                      0.5472      0.255      2.146      0.032       0.047       1.047\n",
      "C(opind)[T.True]:var_anual_PIBpercapita    -0.6096      0.279     -2.188      0.029      -1.156      -0.064\n",
      "match_probtema_maincats                     1.0544      0.582      1.813      0.070      -0.085       2.194\n",
      "=========================================================================================================== \n",
      "\n",
      "                                          p valores  coef  odds ratio\n",
      "Intercept                                 0.550021 -1.75    0.165299\n",
      "C(opind)[T.True]                          0.060352 -1.16    0.301194\n",
      "IMP                                       0.944582  0.97    2.718282\n",
      "grau_est                                  0.642039  2.04    7.389056\n",
      "IMP:grau_est                              0.986373  0.36    1.491825\n",
      "var_anual_PIBpercapita                    0.031869  0.55    1.648721\n",
      "C(opind)[T.True]:var_anual_PIBpercapita   0.028672 -0.61    0.548812\n",
      "match_probtema_maincats                   0.069796  1.05    3.004166\n"
     ]
    }
   ],
   "source": [
    "# Modelo I\n",
    "model1 = smf.logit(\"Eleito ~ IMP*grau_est + C(opind)*var_anual_PIBpercapita + match_probtema_maincats\", data = av).fit()\n",
    "coefs = pd.DataFrame({'p valores': model1.pvalues,\n",
    "    'coef': model1.params.values.round(2),\n",
    "    'odds ratio': np.exp(model1.params.values.round(1))\n",
    "    \n",
    "})\n",
    "print(model1.summary(), '\\n' '\\n', coefs)"
   ]
  },
  {
   "cell_type": "code",
   "execution_count": 36,
   "id": "be8b4289-d172-40ce-8159-60dae083b259",
   "metadata": {},
   "outputs": [
    {
     "name": "stdout",
     "output_type": "stream",
     "text": [
      "                   feature       VIF\n",
      "0                      IMP  1.102246\n",
      "1                 grau_est  3.803512\n",
      "2                    opind  3.783172\n",
      "3   var_anual_PIBpercapita  1.036556\n",
      "4  match_probtema_maincats  1.713964\n"
     ]
    }
   ],
   "source": [
    "\n",
    "#VIF Modelo I centrada\n",
    "X = av[['IMP', 'grau_est', 'opind', 'var_anual_PIBpercapita', 'match_probtema_maincats']]\n",
    "X = X.astype({'opind':'int64'})\n",
    "X = X.dropna(subset='grau_est')\n",
    "# Calculando o VIF para cada variável explicativa (types int ou float, no NAs)\n",
    "vif_data = pd.DataFrame()\n",
    "vif_data[\"feature\"] = X.columns\n",
    "vif_data[\"VIF\"] = [variance_inflation_factor(X.values, i) for i in range(X.shape[1])]\n",
    "\n",
    "print(vif_data)"
   ]
  },
  {
   "cell_type": "code",
   "execution_count": 19,
   "id": "18f84f92-def9-411f-a542-6ec927794c0a",
   "metadata": {},
   "outputs": [
    {
     "name": "stdout",
     "output_type": "stream",
     "text": [
      "                   feature       VIF\n",
      "0                      IMP  2.131696\n",
      "1                 grau_est  5.556991\n",
      "2                    opind  3.782203\n",
      "3   var_anual_PIBpercapita  1.722705\n",
      "4  match_probtema_maincats  1.712213\n"
     ]
    }
   ],
   "source": [
    "\n",
    "# VIF Modelo I para base não centrada\n",
    "\n",
    "X = ofestim[['IMP', 'grau_est', 'opind', 'var_anual_PIBpercapita', 'match_probtema_maincats']]\n",
    "X = X.astype({'opind':'int64'})\n",
    "X = X.dropna(subset='grau_est')\n",
    "\n",
    "# Calculando o VIF para cada variável explicativa (types int ou float, no NAs)\n",
    "vif_data = pd.DataFrame()\n",
    "vif_data[\"feature\"] = X.columns\n",
    "vif_data[\"VIF\"] = [variance_inflation_factor(X.values, i) for i in range(X.shape[1])]\n",
    "\n",
    "print(vif_data)"
   ]
  },
  {
   "cell_type": "code",
   "execution_count": 28,
   "id": "7a62d628-4cd5-40fd-94de-9fa20e18824f",
   "metadata": {},
   "outputs": [
    {
     "name": "stdout",
     "output_type": "stream",
     "text": [
      "111.5 131.3\n"
     ]
    }
   ],
   "source": [
    "print(model1.aic.round(1), model1.bic.round(1))"
   ]
  },
  {
   "cell_type": "markdown",
   "id": "af26f52f-b5c3-445e-a859-702dbde46b0b",
   "metadata": {
    "tags": []
   },
   "source": [
    "### Modelo II: sit_econ2_invert - varpib (AIC: 110.9, BIC: 130.7)"
   ]
  },
  {
   "cell_type": "code",
   "execution_count": 13,
   "id": "e3e9bfea-8a71-48cb-80b0-ec0e088814df",
   "metadata": {},
   "outputs": [
    {
     "name": "stdout",
     "output_type": "stream",
     "text": [
      "Optimization terminated successfully.\n",
      "         Current function value: 0.539078\n",
      "         Iterations 6\n",
      "                           Logit Regression Results                           \n",
      "==============================================================================\n",
      "Dep. Variable:                 Eleito   No. Observations:                   88\n",
      "Model:                          Logit   Df Residuals:                       80\n",
      "Method:                           MLE   Df Model:                            7\n",
      "Date:                Tue, 18 Jun 2024   Pseudo R-squ.:                  0.1495\n",
      "Time:                        04:07:58   Log-Likelihood:                -47.439\n",
      "converged:                       True   LL-Null:                       -55.779\n",
      "Covariance Type:            nonrobust   LLR p-value:                   0.01957\n",
      "===========================================================================================================\n",
      "                                              coef    std err          z      P>|z|      [0.025      0.975]\n",
      "-----------------------------------------------------------------------------------------------------------\n",
      "Intercept                                  -0.3964      0.508     -0.781      0.435      -1.392       0.599\n",
      "C(opind)[T.True]                           -1.1795      0.620     -1.901      0.057      -2.396       0.036\n",
      "IMP                                         1.3114      1.262      1.039      0.299      -1.162       3.785\n",
      "sit_econ2_invert                            0.6011      0.998      0.602      0.547      -1.355       2.557\n",
      "IMP:sit_econ2_invert                       -2.7761      4.779     -0.581      0.561     -12.142       6.590\n",
      "var_anual_PIBpercapita                      0.5455      0.252      2.162      0.031       0.051       1.040\n",
      "C(opind)[T.True]:var_anual_PIBpercapita    -0.6009      0.277     -2.172      0.030      -1.143      -0.059\n",
      "match_probtema_maincats                     1.0239      0.585      1.752      0.080      -0.122       2.170\n",
      "=========================================================================================================== \n",
      "\n",
      "                                          p valores  coef  odds ratio\n",
      "Intercept                                 0.435036 -0.40    0.670320\n",
      "C(opind)[T.True]                          0.057271 -1.18    0.301194\n",
      "IMP                                       0.298675  1.31    3.669297\n",
      "sit_econ2_invert                          0.546925  0.60    1.822119\n",
      "IMP:sit_econ2_invert                      0.561281 -2.78    0.060810\n",
      "var_anual_PIBpercapita                    0.030580  0.55    1.648721\n",
      "C(opind)[T.True]:var_anual_PIBpercapita   0.029890 -0.60    0.548812\n",
      "match_probtema_maincats                   0.079836  1.02    2.718282\n"
     ]
    }
   ],
   "source": [
    "\n",
    "model2 = smf.logit(\"Eleito ~ IMP*sit_econ2_invert + C(opind)*var_anual_PIBpercapita + match_probtema_maincats\", data = av).fit(maxiter = 8000)\n",
    "coefs = pd.DataFrame({'p valores': model2.pvalues,\n",
    "    'coef': model2.params.values.round(2),\n",
    "    'odds ratio': np.exp(model2.params.values.round(1)),\n",
    "    \n",
    "})\n",
    "print(model2.summary(), '\\n' '\\n', coefs)"
   ]
  },
  {
   "cell_type": "code",
   "execution_count": 14,
   "id": "aa4c8473-e1d1-4ae1-8f3d-3e0c8a5c7f06",
   "metadata": {},
   "outputs": [
    {
     "name": "stdout",
     "output_type": "stream",
     "text": [
      "110.9 130.7\n"
     ]
    }
   ],
   "source": [
    "print(model2.aic.round(1), model2.bic.round(1))"
   ]
  },
  {
   "cell_type": "code",
   "execution_count": 18,
   "id": "69ff21c0-b0ad-4b31-a029-04e0618f8224",
   "metadata": {},
   "outputs": [
    {
     "name": "stdout",
     "output_type": "stream",
     "text": [
      "                   feature       VIF\n",
      "0                      IMP  2.133725\n",
      "1                sit_econ2  5.560436\n",
      "2                    opind  3.427318\n",
      "3   var_anual_PIBpercapita  1.958103\n",
      "4  match_probtema_maincats  1.705463\n"
     ]
    }
   ],
   "source": [
    "\n",
    "# VIF Modelo II para base não centrada\n",
    "\n",
    "X = ofestim[['IMP', 'sit_econ2', 'opind', 'var_anual_PIBpercapita', 'match_probtema_maincats']]\n",
    "X = X.astype({'opind':'int64'})\n",
    "X = X.dropna(subset='sit_econ2')\n",
    "\n",
    "# Calculando o VIF para cada variável explicativa (types int ou float, no NAs)\n",
    "vif_data = pd.DataFrame()\n",
    "vif_data[\"feature\"] = X.columns\n",
    "vif_data[\"VIF\"] = [variance_inflation_factor(X.values, i) for i in range(X.shape[1])]\n",
    "\n",
    "print(vif_data)"
   ]
  },
  {
   "cell_type": "code",
   "execution_count": 38,
   "id": "a266e7ab-c5e3-4ae4-8f72-31b5a7bcfb8a",
   "metadata": {},
   "outputs": [
    {
     "name": "stdout",
     "output_type": "stream",
     "text": [
      "                   feature       VIF\n",
      "0                      IMP  1.103126\n",
      "1                sit_econ2  1.122669\n",
      "2                    opind  1.545759\n",
      "3   var_anual_PIBpercapita  1.151699\n",
      "4  match_probtema_maincats  1.639963\n"
     ]
    }
   ],
   "source": [
    "\n",
    "#VIF Modelo II centrada\n",
    "X = av[['IMP', 'sit_econ2', 'opind', 'var_anual_PIBpercapita', 'match_probtema_maincats']]\n",
    "X = X.astype({'opind':'int64'})\n",
    "X = X.dropna(subset='sit_econ2')\n",
    "# Calculando o VIF para cada variável explicativa (types int ou float, no NAs)\n",
    "vif_data = pd.DataFrame()\n",
    "vif_data[\"feature\"] = X.columns\n",
    "vif_data[\"VIF\"] = [variance_inflation_factor(X.values, i) for i in range(X.shape[1])]\n",
    "\n",
    "print(vif_data)"
   ]
  },
  {
   "cell_type": "markdown",
   "id": "a7d5827b-8cff-495e-bd8b-4eb1a1e3050e",
   "metadata": {},
   "source": [
    "### Varpib - varpib (melhor) - (AIC: 117.9, BIC: 135.8)"
   ]
  },
  {
   "cell_type": "code",
   "execution_count": 1418,
   "id": "1bd92d8b-ab1c-4c12-aa8b-e4c4ea25a2d9",
   "metadata": {},
   "outputs": [
    {
     "name": "stdout",
     "output_type": "stream",
     "text": [
      "Optimization terminated successfully.\n",
      "         Current function value: 0.560163\n",
      "         Iterations 6\n",
      "                           Logit Regression Results                           \n",
      "==============================================================================\n",
      "Dep. Variable:                 Eleito   No. Observations:                   88\n",
      "Model:                          Logit   Df Residuals:                       80\n",
      "Method:                           MLE   Df Model:                            7\n",
      "Date:                Mon, 17 Jun 2024   Pseudo R-squ.:                  0.1163\n",
      "Time:                        00:21:51   Log-Likelihood:                -49.294\n",
      "converged:                       True   LL-Null:                       -55.779\n",
      "Covariance Type:            nonrobust   LLR p-value:                   0.07284\n",
      "=====================================================================================================\n",
      "                                        coef    std err          z      P>|z|      [0.025      0.975]\n",
      "-----------------------------------------------------------------------------------------------------\n",
      "Intercept                            -0.2257      0.443     -0.510      0.610      -1.094       0.642\n",
      "C(opind)[T.True]                     -1.3806      0.561     -2.461      0.014      -2.480      -0.281\n",
      "IMP                                   1.3561      1.209      1.122      0.262      -1.013       3.725\n",
      "var_anual_PIBpercapita                0.1111      0.110      1.009      0.313      -0.105       0.327\n",
      "IMP:var_anual_PIBpercapita            0.0695      0.451      0.154      0.877      -0.814       0.952\n",
      "sit_econ2_invert                     -1.7421      1.961     -0.888      0.374      -5.585       2.101\n",
      "C(opind)[T.True]:sit_econ2_invert     3.3637      2.240      1.501      0.133      -1.027       7.755\n",
      "match_probtema_maincats               0.9656      0.569      1.696      0.090      -0.150       2.081\n",
      "===================================================================================================== \n",
      "\n",
      "                                    p valores  coef  odds ratio\n",
      "Intercept                           0.610400 -0.23    0.818731\n",
      "C(opind)[T.True]                    0.013840 -1.38    0.246597\n",
      "IMP                                 0.261914  1.36    4.055200\n",
      "var_anual_PIBpercapita              0.313030  0.11    1.105171\n",
      "IMP:var_anual_PIBpercapita          0.877462  0.07    1.105171\n",
      "sit_econ2_invert                    0.374304 -1.74    0.182684\n",
      "C(opind)[T.True]:sit_econ2_invert   0.133259  3.36   29.964100\n",
      "match_probtema_maincats             0.089798  0.97    2.718282\n"
     ]
    }
   ],
   "source": [
    "\n",
    "model = smf.logit(\"Eleito ~ IMP*var_anual_PIBpercapita + C(opind)*sit_econ2_invert + match_probtema_maincats\", data = av).fit(maxiter = 8000)\n",
    "coefs = pd.DataFrame({'p valores': model.pvalues,\n",
    "    'coef': model.params.values.round(2),\n",
    "    'odds ratio': np.exp(model.params.values.round(1)),\n",
    "    \n",
    "})\n",
    "print(model.summary(), '\\n' '\\n', coefs)"
   ]
  },
  {
   "cell_type": "code",
   "execution_count": 1419,
   "id": "f5fc8792-3652-4925-a7bc-2e3f68da4e99",
   "metadata": {},
   "outputs": [
    {
     "name": "stdout",
     "output_type": "stream",
     "text": [
      "114.6 134.4\n"
     ]
    }
   ],
   "source": [
    "print(model.aic.round(1), model.bic.round(1))"
   ]
  },
  {
   "cell_type": "code",
   "execution_count": 1413,
   "id": "e4f4ea04-f4b0-4e0d-81c1-c2e6f4c21f32",
   "metadata": {},
   "outputs": [
    {
     "name": "stdout",
     "output_type": "stream",
     "text": [
      "Optimization terminated successfully.\n",
      "         Current function value: 0.541031\n",
      "         Iterations 6\n",
      "                           Logit Regression Results                           \n",
      "==============================================================================\n",
      "Dep. Variable:                 Eleito   No. Observations:                   96\n",
      "Model:                          Logit   Df Residuals:                       89\n",
      "Method:                           MLE   Df Model:                            6\n",
      "Date:                Sun, 16 Jun 2024   Pseudo R-squ.:                  0.1399\n",
      "Time:                        19:17:30   Log-Likelihood:                -51.939\n",
      "converged:                       True   LL-Null:                       -60.389\n",
      "Covariance Type:            nonrobust   LLR p-value:                  0.009661\n",
      "===========================================================================================================\n",
      "                                              coef    std err          z      P>|z|      [0.025      0.975]\n",
      "-----------------------------------------------------------------------------------------------------------\n",
      "Intercept                                  -0.5109      0.497     -1.028      0.304      -1.485       0.463\n",
      "C(opind)[T.True]                           -0.9548      0.593     -1.609      0.108      -2.118       0.208\n",
      "IMP                                         1.2334      1.235      0.999      0.318      -1.188       3.655\n",
      "var_anual_PIBpercapita                      0.5487      0.249      2.208      0.027       0.062       1.036\n",
      "C(opind)[T.True]:var_anual_PIBpercapita    -0.6518      0.266     -2.452      0.014      -1.173      -0.131\n",
      "IMP:var_anual_PIBpercapita                  0.2916      0.515      0.566      0.571      -0.718       1.301\n",
      "match_probtema_maincats                     0.9953      0.555      1.793      0.073      -0.092       2.083\n",
      "=========================================================================================================== \n",
      "\n",
      "                                          p valores  coef  odds ratio\n",
      "Intercept                                 0.303822 -0.51    0.606531\n",
      "C(opind)[T.True]                          0.107666 -0.95    0.367879\n",
      "IMP                                       0.318027  1.23    3.320117\n",
      "var_anual_PIBpercapita                    0.027271  0.55    1.648721\n",
      "C(opind)[T.True]:var_anual_PIBpercapita   0.014197 -0.65    0.496585\n",
      "IMP:var_anual_PIBpercapita                0.571189  0.29    1.349859\n",
      "match_probtema_maincats                   0.072915  1.00    2.718282\n"
     ]
    }
   ],
   "source": [
    "\n",
    "model = smf.logit(\"Eleito ~ IMP*var_anual_PIBpercapita + C(opind)*var_anual_PIBpercapita + match_probtema_maincats\", data = av).fit(maxiter = 8000)\n",
    "coefs = pd.DataFrame({'p valores': model.pvalues,\n",
    "    'coef': model.params.values.round(2),\n",
    "    'odds ratio': np.exp(model.params.values.round(1)),\n",
    "    \n",
    "})\n",
    "print(model.summary(), '\\n' '\\n', coefs)"
   ]
  },
  {
   "cell_type": "code",
   "execution_count": 1411,
   "id": "78a8aee8-fbf9-4572-a0a0-50d6bf043e82",
   "metadata": {},
   "outputs": [
    {
     "name": "stdout",
     "output_type": "stream",
     "text": [
      "                   feature       VIF\n",
      "0                      IMP  1.702970\n",
      "1  match_probtema_maincats  1.536630\n",
      "2                    opind  2.220126\n",
      "3   var_anual_PIBpercapita  1.322387\n"
     ]
    }
   ],
   "source": [
    "\n",
    "# VIF Modelo I para base não centrada\n",
    "\n",
    "X = ofestim[['IMP', 'match_probtema_maincats', 'opind', 'var_anual_PIBpercapita']]\n",
    "X = X.astype({'opind':'int64'})\n",
    "#X = X.dropna(subset='sit_econ2')\n",
    "\n",
    "# Calculando o VIF para cada variável explicativa (types int ou float, no NAs)\n",
    "vif_data = pd.DataFrame()\n",
    "vif_data[\"feature\"] = X.columns\n",
    "vif_data[\"VIF\"] = [variance_inflation_factor(X.values, i) for i in range(X.shape[1])]\n",
    "\n",
    "print(vif_data)"
   ]
  },
  {
   "cell_type": "code",
   "execution_count": 1402,
   "id": "3c5f5beb-447e-4ba7-9707-ca609dae4ea3",
   "metadata": {},
   "outputs": [
    {
     "name": "stdout",
     "output_type": "stream",
     "text": [
      "                   feature       VIF\n",
      "0                      IMP  1.083042\n",
      "1  match_probtema_maincats  1.568196\n",
      "2                    opind  1.472831\n",
      "3   var_anual_PIBpercapita  1.035203\n"
     ]
    }
   ],
   "source": [
    "\n",
    "#VIF Modelo I centrada\n",
    "X = av[['IMP', 'match_probtema_maincats', 'opind', 'var_anual_PIBpercapita']]\n",
    "X = X.astype({'opind':'int64'})\n",
    "#X = X.dropna(subset='sit_econ2')\n",
    "# Calculando o VIF para cada variável explicativa (types int ou float, no NAs)\n",
    "vif_data = pd.DataFrame()\n",
    "vif_data[\"feature\"] = X.columns\n",
    "vif_data[\"VIF\"] = [variance_inflation_factor(X.values, i) for i in range(X.shape[1])]\n",
    "\n",
    "print(vif_data)"
   ]
  },
  {
   "cell_type": "code",
   "execution_count": 1414,
   "id": "15e41e90-5970-4c6a-af31-607e3cb9b0fd",
   "metadata": {},
   "outputs": [
    {
     "name": "stdout",
     "output_type": "stream",
     "text": [
      "117.9 135.8\n"
     ]
    }
   ],
   "source": [
    "print(model.aic.round(1), model.bic.round(1))"
   ]
  },
  {
   "cell_type": "markdown",
   "id": "e360ff32-7e84-4bc8-b6cb-727bf48f510a",
   "metadata": {
    "tags": []
   },
   "source": [
    "### Modelo III: Sit_econ2_invert - sit_econ2_invert (AIC: 113.5, BIC: 130.8)"
   ]
  },
  {
   "cell_type": "code",
   "execution_count": 20,
   "id": "908dfe29-c17b-4bc3-91ff-13d5df542447",
   "metadata": {
    "tags": []
   },
   "outputs": [
    {
     "name": "stdout",
     "output_type": "stream",
     "text": [
      "Optimization terminated successfully.\n",
      "         Current function value: 0.565388\n",
      "         Iterations 6\n",
      "                           Logit Regression Results                           \n",
      "==============================================================================\n",
      "Dep. Variable:                 Eleito   No. Observations:                   88\n",
      "Model:                          Logit   Df Residuals:                       81\n",
      "Method:                           MLE   Df Model:                            6\n",
      "Date:                Tue, 18 Jun 2024   Pseudo R-squ.:                  0.1080\n",
      "Time:                        04:13:05   Log-Likelihood:                -49.754\n",
      "converged:                       True   LL-Null:                       -55.779\n",
      "Covariance Type:            nonrobust   LLR p-value:                   0.06085\n",
      "=====================================================================================================\n",
      "                                        coef    std err          z      P>|z|      [0.025      0.975]\n",
      "-----------------------------------------------------------------------------------------------------\n",
      "Intercept                            -0.1786      0.443     -0.403      0.687      -1.046       0.689\n",
      "C(opind)[T.True]                     -1.4179      0.563     -2.518      0.012      -2.522      -0.314\n",
      "IMP                                   1.3205      1.192      1.108      0.268      -1.015       3.656\n",
      "sit_econ2_invert                     -1.9470      1.976     -0.985      0.324      -5.819       1.925\n",
      "C(opind)[T.True]:sit_econ2_invert     3.1747      2.270      1.398      0.162      -1.275       7.624\n",
      "IMP:sit_econ2_invert                 -1.7581      4.659     -0.377      0.706     -10.890       7.374\n",
      "match_probtema_maincats               1.0124      0.560      1.806      0.071      -0.086       2.111\n",
      "===================================================================================================== \n",
      "\n",
      "                                    p valores  coef  odds ratio\n",
      "Intercept                           0.686717 -0.18    0.818731\n",
      "C(opind)[T.True]                    0.011810 -1.42    0.246597\n",
      "IMP                                 0.267753  1.32    3.669297\n",
      "sit_econ2_invert                    0.324392 -1.95    0.149569\n",
      "C(opind)[T.True]:sit_econ2_invert   0.161981  3.17   24.532530\n",
      "IMP:sit_econ2_invert                0.705922 -1.76    0.165299\n",
      "match_probtema_maincats             0.070865  1.01    2.718282\n"
     ]
    }
   ],
   "source": [
    "\n",
    "model = smf.logit(\"Eleito ~ IMP*sit_econ2_invert + C(opind)*sit_econ2_invert + match_probtema_maincats\", data = av).fit(maxiter = 8000)\n",
    "coefs = pd.DataFrame({'p valores': model.pvalues,\n",
    "    'coef': model.params.values.round(2),\n",
    "    'odds ratio': np.exp(model.params.values.round(1)),\n",
    "    \n",
    "})\n",
    "print(model.summary(), '\\n' '\\n', coefs)"
   ]
  },
  {
   "cell_type": "code",
   "execution_count": 21,
   "id": "e05205ef-93c3-42bc-87d0-148f687d2576",
   "metadata": {},
   "outputs": [
    {
     "name": "stdout",
     "output_type": "stream",
     "text": [
      "                   feature       VIF\n",
      "0                      IMP  2.126436\n",
      "1                sit_econ2  4.315524\n",
      "2                    opind  3.383362\n",
      "3  match_probtema_maincats  1.685850\n"
     ]
    }
   ],
   "source": [
    "\n",
    "# VIF Modelo I para base não centrada\n",
    "\n",
    "X = ofestim[['IMP', 'sit_econ2', 'opind', 'match_probtema_maincats']]\n",
    "X = X.astype({'opind':'int64'})\n",
    "X = X.dropna(subset='sit_econ2')\n",
    "\n",
    "# Calculando o VIF para cada variável explicativa (types int ou float, no NAs)\n",
    "vif_data = pd.DataFrame()\n",
    "vif_data[\"feature\"] = X.columns\n",
    "vif_data[\"VIF\"] = [variance_inflation_factor(X.values, i) for i in range(X.shape[1])]\n",
    "\n",
    "print(vif_data)"
   ]
  },
  {
   "cell_type": "code",
   "execution_count": 40,
   "id": "e82732a7-e9fc-4af3-a8de-a6e392ad1c47",
   "metadata": {},
   "outputs": [
    {
     "name": "stdout",
     "output_type": "stream",
     "text": [
      "                   feature       VIF\n",
      "0                      IMP  1.101711\n",
      "1                sit_econ2  1.008220\n",
      "2                    opind  1.545758\n",
      "3  match_probtema_maincats  1.608806\n"
     ]
    }
   ],
   "source": [
    "\n",
    "#VIF Modelo I centrada\n",
    "X = av[['IMP', 'sit_econ2', 'opind', 'match_probtema_maincats']]\n",
    "X = X.astype({'opind':'int64'})\n",
    "X = X.dropna(subset='sit_econ2')\n",
    "# Calculando o VIF para cada variável explicativa (types int ou float, no NAs)\n",
    "vif_data = pd.DataFrame()\n",
    "vif_data[\"feature\"] = X.columns\n",
    "vif_data[\"VIF\"] = [variance_inflation_factor(X.values, i) for i in range(X.shape[1])]\n",
    "\n",
    "print(vif_data)"
   ]
  },
  {
   "cell_type": "code",
   "execution_count": 1416,
   "id": "d787353d-b1d0-40a4-9508-a3c8ea518ffd",
   "metadata": {},
   "outputs": [
    {
     "name": "stdout",
     "output_type": "stream",
     "text": [
      "113.5 130.8\n"
     ]
    }
   ],
   "source": [
    "print(model.aic.round(1), model.bic.round(1))"
   ]
  },
  {
   "cell_type": "markdown",
   "id": "fa254952-b670-40b7-bd83-911a27c6c4c0",
   "metadata": {
    "tags": []
   },
   "source": [
    "### Modelo I sem match_probtema_maincats (talvez usar pra mostrar impacto da respons?)"
   ]
  },
  {
   "cell_type": "code",
   "execution_count": 1389,
   "id": "8581a225-07f8-4ac7-bbb3-6ffefa2b7e9a",
   "metadata": {},
   "outputs": [
    {
     "name": "stdout",
     "output_type": "stream",
     "text": [
      "Optimization terminated successfully.\n",
      "         Current function value: 0.561638\n",
      "         Iterations 6\n",
      "                           Logit Regression Results                           \n",
      "==============================================================================\n",
      "Dep. Variable:                 Eleito   No. Observations:                   88\n",
      "Model:                          Logit   Df Residuals:                       81\n",
      "Method:                           MLE   Df Model:                            6\n",
      "Date:                Sun, 16 Jun 2024   Pseudo R-squ.:                  0.1139\n",
      "Time:                        18:32:19   Log-Likelihood:                -49.424\n",
      "converged:                       True   LL-Null:                       -55.779\n",
      "Covariance Type:            nonrobust   LLR p-value:                   0.04787\n",
      "===========================================================================================================\n",
      "                                              coef    std err          z      P>|z|      [0.025      0.975]\n",
      "-----------------------------------------------------------------------------------------------------------\n",
      "Intercept                                  -1.5653      2.962     -0.528      0.597      -7.372       4.241\n",
      "C(opind)[T.True]                           -0.8631      0.582     -1.482      0.138      -2.005       0.278\n",
      "IMP                                         2.5622     14.276      0.179      0.858     -25.418      30.542\n",
      "grau_est                                    2.0020      4.438      0.451      0.652      -6.696      10.700\n",
      "IMP:grau_est                               -3.0225     21.400     -0.141      0.888     -44.966      38.921\n",
      "var_anual_PIBpercapita                      0.5587      0.255      2.190      0.028       0.059       1.059\n",
      "C(opind)[T.True]:var_anual_PIBpercapita    -0.5971      0.279     -2.140      0.032      -1.144      -0.050\n",
      "=========================================================================================================== \n",
      "\n",
      "                                          p valores  coef  odds ratio\n",
      "Intercept                                 0.597229 -1.57    0.201897\n",
      "C(opind)[T.True]                          0.138322 -0.86    0.406570\n",
      "IMP                                       0.857560  2.56   13.463738\n",
      "grau_est                                  0.651901  2.00    7.389056\n",
      "IMP:grau_est                              0.887682 -3.02    0.049787\n",
      "var_anual_PIBpercapita                    0.028493  0.56    1.822119\n",
      "C(opind)[T.True]:var_anual_PIBpercapita   0.032362 -0.60    0.548812\n"
     ]
    }
   ],
   "source": [
    "# Modelo I\n",
    "model = smf.logit(\"Eleito ~ IMP*grau_est + C(opind)*var_anual_PIBpercapita\", data = av).fit(maxiter = 8000)\n",
    "coefs = pd.DataFrame({'p valores': model.pvalues,\n",
    "    'coef': model.params.values.round(2),\n",
    "    'odds ratio': np.exp(model.params.values.round(1))\n",
    "    \n",
    "})\n",
    "print(model.summary(), '\\n' '\\n', coefs)"
   ]
  },
  {
   "cell_type": "code",
   "execution_count": 1207,
   "id": "a3b0b7dc-214c-432e-a5b9-543304791960",
   "metadata": {},
   "outputs": [
    {
     "data": {
      "text/plain": [
       "-46.14414248756596"
      ]
     },
     "execution_count": 1207,
     "metadata": {},
     "output_type": "execute_result"
    }
   ],
   "source": [
    "model2.llf"
   ]
  },
  {
   "cell_type": "code",
   "execution_count": 1269,
   "id": "58dda49e-b9bb-4699-bdb0-2bbf318bf326",
   "metadata": {},
   "outputs": [
    {
     "data": {
      "text/plain": [
       "130.1896836610007"
      ]
     },
     "execution_count": 1269,
     "metadata": {},
     "output_type": "execute_result"
    }
   ],
   "source": [
    "model.bic"
   ]
  },
  {
   "cell_type": "code",
   "execution_count": 1268,
   "id": "ff8a5f06-07c5-4017-851f-07e1f9fdeea7",
   "metadata": {},
   "outputs": [
    {
     "data": {
      "text/plain": [
       "0.11393442687497513"
      ]
     },
     "execution_count": 1268,
     "metadata": {},
     "output_type": "execute_result"
    }
   ],
   "source": [
    "model.prsquared"
   ]
  },
  {
   "cell_type": "markdown",
   "id": "628d20ae-cc25-46cf-8c20-265e72bc72f5",
   "metadata": {},
   "source": [
    "# Modelo Completo"
   ]
  },
  {
   "cell_type": "code",
   "execution_count": 421,
   "id": "bffe061b-2e62-4d6b-90ec-e73f87073a26",
   "metadata": {
    "tags": []
   },
   "outputs": [
    {
     "name": "stdout",
     "output_type": "stream",
     "text": [
      "dem: Index(['pais', 'ano_survey', 'ano_eleicao', 'peso', 'posi_pol', 'sit_econ',\n",
      "       'princ_prob', 'conf_cong', 'conf_part', 'conf_presi', 'conf_part2',\n",
      "       'conf_cong2', 'conf_presi2', 'sit_econ2'],\n",
      "      dtype='object') \n",
      "\n",
      " ofestim: Index(['pais', 'ano_eleicao', 'candidato', 'tipo_apelo', 'apelos_ativos',\n",
      "       'neutralidade_apelo', 'Orientacao', 'Candidato_minoria', 'Incumbente',\n",
      "       'Situacao_oposicao', 'Partidos', 'Votos_1T', 'Votos_2T', 'Peças_TV',\n",
      "       'Tempo total (minutos)', 'Tempo total (segundos)',\n",
      "       'Tempo total (HH:MM:SS)', 'Eleito', 'eleicao_2turnos',\n",
      "       'candidato_2turno', 'Link eleição', 'var_anual_PIBpercapita', 'HDI',\n",
      "       'GNI', 'inflacao_CPI', 'Gini_index', 'desemprego', 'N_apelo',\n",
      "       'dif_votos', 'polariz', 'princ_tema_maincats',\n",
      "       'princ_probelec_maincats', 'match_probtema_maincats', 'IMP',\n",
      "       'conf_part2', 'conf_cong2', 'conf_presi2', 'sit_econ2', 'grau_est'],\n",
      "      dtype='object') \n",
      "\n",
      " ofer: Index(['pais', 'ano_eleicao', 'candidato', 'Orientacao', 'Candidato_minoria',\n",
      "       'Incumbente', 'Situacao_oposicao', 'Partidos', 'Votos_1T', 'Votos_2T',\n",
      "       'Peças_TV', 'Tempo total (minutos)', 'Tempo total (segundos)',\n",
      "       'Tempo total (HH:MM:SS)', 'Eleito', 'eleicao_2turnos',\n",
      "       'candidato_2turno', 'Link eleição', 'codif', 'nome_video', 'tipo_apelo',\n",
      "       'emocao_apelo', 'musica', 'temas_completo', 'tempo_apelo_pais',\n",
      "       'tom_tempo_apelo', 'var_anual_PIBpercapita', 'HDI', 'GNI',\n",
      "       'inflacao_CPI', 'Gini_index', 'desemprego', 'N_apelo', 'dif_votos',\n",
      "       'polariz', 'princ_tema_maincats', 'princ_probelec_maincats',\n",
      "       'match_probtema_maincats', 'apelos_ativos', 'neutralidade_apelo', 'IMP',\n",
      "       'conf_part2', 'conf_cong2', 'conf_presi2', 'sit_econ2', 'grau_est'],\n",
      "      dtype='object')\n"
     ]
    }
   ],
   "source": [
    "print(f'dem: {dem.columns}', '\\n''\\n', f'ofestim: {ofestim.columns}', '\\n''\\n', f'ofer: {ofer1.columns}')"
   ]
  },
  {
   "cell_type": "markdown",
   "id": "c1f020be-2174-4688-9d77-d8d6c91c8cb9",
   "metadata": {},
   "source": [
    "## Melhor modelo até agora (dentro da margem de erro do sitcon2 - sitcon2, mas mantendo var do mod red)"
   ]
  },
  {
   "cell_type": "code",
   "execution_count": 1523,
   "id": "66e12089-371a-416d-b3bf-073ec836b0e3",
   "metadata": {},
   "outputs": [
    {
     "name": "stdout",
     "output_type": "stream",
     "text": [
      "Optimization terminated successfully.\n",
      "         Current function value: 0.514103\n",
      "         Iterations 6\n",
      "                           Logit Regression Results                           \n",
      "==============================================================================\n",
      "Dep. Variable:                 Eleito   No. Observations:                   71\n",
      "Model:                          Logit   Df Residuals:                       61\n",
      "Method:                           MLE   Df Model:                            9\n",
      "Date:                Mon, 17 Jun 2024   Pseudo R-squ.:                  0.1694\n",
      "Time:                        15:17:47   Log-Likelihood:                -36.501\n",
      "converged:                       True   LL-Null:                       -43.948\n",
      "Covariance Type:            nonrobust   LLR p-value:                   0.09390\n",
      "========================================================================================================\n",
      "                                           coef    std err          z      P>|z|      [0.025      0.975]\n",
      "--------------------------------------------------------------------------------------------------------\n",
      "Intercept                                2.8847      5.219      0.553      0.580      -7.345      13.115\n",
      "opind[T.True]                           -1.3468      0.737     -1.827      0.068      -2.792       0.098\n",
      "IMP                                      2.8070      1.576      1.781      0.075      -0.282       5.896\n",
      "sit_econ2_invert                         1.3531      1.313      1.030      0.303      -1.221       3.928\n",
      "IMP:sit_econ2_invert                    -2.7676      5.859     -0.472      0.637     -14.250       8.715\n",
      "var_anual_PIBpercapita                   0.5744      0.353      1.625      0.104      -0.118       1.267\n",
      "opind[T.True]:var_anual_PIBpercapita    -0.6714      0.389     -1.726      0.084      -1.434       0.091\n",
      "HDI                                     -4.3924      6.608     -0.665      0.506     -17.345       8.560\n",
      "Gini_index                              -0.1625      0.119     -1.366      0.172      -0.396       0.071\n",
      "match_probtema_maincats                  1.0149      0.731      1.389      0.165      -0.417       2.447\n",
      "======================================================================================================== \n",
      "\n",
      "                                    name  coef  odds ratio\n",
      "0                             Intercept  2.88     17.8990\n",
      "1                         opind[T.True] -1.35      0.2601\n",
      "2                                   IMP  2.81     16.5596\n",
      "3                      sit_econ2_invert  1.35      3.8695\n",
      "4                  IMP:sit_econ2_invert -2.77      0.0628\n",
      "5                var_anual_PIBpercapita  0.57      1.7761\n",
      "6  opind[T.True]:var_anual_PIBpercapita -0.67      0.5110\n",
      "7                                   HDI -4.39      0.0124\n",
      "8                            Gini_index -0.16      0.8500\n",
      "9               match_probtema_maincats  1.01      2.7590\n"
     ]
    }
   ],
   "source": [
    "\n",
    "model = smf.logit(\"Eleito ~ IMP*sit_econ2_invert + opind*var_anual_PIBpercapita + HDI + Gini_index + match_probtema_maincats\", data = av).fit(maxiter = 8000)\n",
    "coefs = pd.DataFrame({'name': model.params.index.round(2),\n",
    "    'coef': model.params.values.round(2),\n",
    "    'odds ratio': np.exp(model.params.values).round(4)\n",
    "    \n",
    "})\n",
    "print(model.summary(), '\\n' '\\n', coefs)"
   ]
  },
  {
   "cell_type": "code",
   "execution_count": 1520,
   "id": "c1fa9229-8bef-49da-abec-0e7cf72a531b",
   "metadata": {},
   "outputs": [
    {
     "name": "stdout",
     "output_type": "stream",
     "text": [
      "Optimization terminated successfully.\n",
      "         Current function value: 0.517233\n",
      "         Iterations 6\n",
      "                           Logit Regression Results                           \n",
      "==============================================================================\n",
      "Dep. Variable:                 Eleito   No. Observations:                   71\n",
      "Model:                          Logit   Df Residuals:                       62\n",
      "Method:                           MLE   Df Model:                            8\n",
      "Date:                Mon, 17 Jun 2024   Pseudo R-squ.:                  0.1644\n",
      "Time:                        15:17:11   Log-Likelihood:                -36.724\n",
      "converged:                       True   LL-Null:                       -43.948\n",
      "Covariance Type:            nonrobust   LLR p-value:                   0.07078\n",
      "========================================================================================================\n",
      "                                           coef    std err          z      P>|z|      [0.025      0.975]\n",
      "--------------------------------------------------------------------------------------------------------\n",
      "Intercept                               -0.5613      0.617     -0.909      0.363      -1.771       0.648\n",
      "opind[T.True]                           -1.2826      0.729     -1.761      0.078      -2.711       0.145\n",
      "IMP                                      2.8000      1.573      1.780      0.075      -0.283       5.883\n",
      "sit_econ2                               -1.3613      1.292     -1.054      0.292      -3.893       1.171\n",
      "IMP:sit_econ2                            2.4877      5.709      0.436      0.663      -8.702      13.677\n",
      "var_anual_PIBpercapita                   0.5936      0.351      1.692      0.091      -0.094       1.281\n",
      "opind[T.True]:var_anual_PIBpercapita    -0.6916      0.386     -1.790      0.073      -1.449       0.066\n",
      "Gini_index                              -0.1255      0.105     -1.199      0.231      -0.331       0.080\n",
      "match_probtema_maincats                  1.2045      0.678      1.776      0.076      -0.124       2.533\n",
      "======================================================================================================== \n",
      "\n",
      "                                    name  coef  odds ratio\n",
      "0                             Intercept -0.56      0.5705\n",
      "1                         opind[T.True] -1.28      0.2773\n",
      "2                                   IMP  2.80     16.4447\n",
      "3                             sit_econ2 -1.36      0.2563\n",
      "4                         IMP:sit_econ2  2.49     12.0342\n",
      "5                var_anual_PIBpercapita  0.59      1.8106\n",
      "6  opind[T.True]:var_anual_PIBpercapita -0.69      0.5008\n",
      "7                            Gini_index -0.13      0.8821\n",
      "8               match_probtema_maincats  1.20      3.3350\n"
     ]
    }
   ],
   "source": [
    "\n",
    "model = smf.logit(\"Eleito ~ IMP*sit_econ2 + opind*var_anual_PIBpercapita + Gini_index + match_probtema_maincats\", data = av).fit(maxiter = 8000)\n",
    "coefs = pd.DataFrame({'name': model.params.index.round(2),\n",
    "    'coef': model.params.values.round(2),\n",
    "    'odds ratio': np.exp(model.params.values).round(4)\n",
    "    \n",
    "})\n",
    "print(model.summary(), '\\n' '\\n', coefs)"
   ]
  },
  {
   "cell_type": "code",
   "execution_count": 1524,
   "id": "d18d138d-3403-405c-bef8-cb8acf825eb9",
   "metadata": {},
   "outputs": [
    {
     "data": {
      "text/plain": [
       "115.62943008034273"
      ]
     },
     "execution_count": 1524,
     "metadata": {},
     "output_type": "execute_result"
    }
   ],
   "source": [
    "model.bic"
   ]
  },
  {
   "cell_type": "code",
   "execution_count": 1490,
   "id": "6b935f2f-9027-47a5-ad2b-afef423c317d",
   "metadata": {},
   "outputs": [
    {
     "name": "stdout",
     "output_type": "stream",
     "text": [
      "Optimization terminated successfully.\n",
      "         Current function value: 0.528968\n",
      "         Iterations 6\n",
      "                           Logit Regression Results                           \n",
      "==============================================================================\n",
      "Dep. Variable:                 Eleito   No. Observations:                   68\n",
      "Model:                          Logit   Df Residuals:                       59\n",
      "Method:                           MLE   Df Model:                            8\n",
      "Date:                Mon, 17 Jun 2024   Pseudo R-squ.:                  0.1443\n",
      "Time:                        15:06:32   Log-Likelihood:                -35.970\n",
      "converged:                       True   LL-Null:                       -42.035\n",
      "Covariance Type:            nonrobust   LLR p-value:                    0.1455\n",
      "==================================================================================================\n",
      "                                     coef    std err          z      P>|z|      [0.025      0.975]\n",
      "--------------------------------------------------------------------------------------------------\n",
      "Intercept                          4.6030      5.564      0.827      0.408      -6.302      15.508\n",
      "opind[T.True]                     -1.2803      0.807     -1.586      0.113      -2.863       0.302\n",
      "IMP                                3.5467      1.595      2.223      0.026       0.420       6.673\n",
      "sit_econ2_invert                  -1.7179      2.752     -0.624      0.532      -7.112       3.676\n",
      "opind[T.True]:sit_econ2_invert     3.7433      3.049      1.228      0.220      -2.233       9.720\n",
      "IMP:sit_econ2_invert              -2.5273      5.734     -0.441      0.659     -13.766       8.712\n",
      "inflacao_CPI                       0.0695      0.173      0.401      0.689      -0.270       0.409\n",
      "Gini_index                        -0.1132      0.115     -0.988      0.323      -0.338       0.111\n",
      "match_probtema_maincats            1.4448      0.724      1.996      0.046       0.026       2.863\n",
      "================================================================================================== \n",
      "\n",
      "                              name  coef  odds ratio\n",
      "0                       Intercept  4.60     99.7787\n",
      "1                   opind[T.True] -1.28      0.2780\n",
      "2                             IMP  3.55     34.6994\n",
      "3                sit_econ2_invert -1.72      0.1794\n",
      "4  opind[T.True]:sit_econ2_invert  3.74     42.2364\n",
      "5            IMP:sit_econ2_invert -2.53      0.0799\n",
      "6                    inflacao_CPI  0.07      1.0719\n",
      "7                      Gini_index -0.11      0.8930\n",
      "8         match_probtema_maincats  1.44      4.2408\n"
     ]
    }
   ],
   "source": [
    "\n",
    "model = smf.logit(\"Eleito ~ IMP*sit_econ2_invert + opind*sit_econ2_invert + inflacao_CPI + Gini_index + match_probtema_maincats\", data = av).fit(maxiter = 8000)\n",
    "coefs = pd.DataFrame({'name': model.params.index.round(2),\n",
    "    'coef': model.params.values.round(2),\n",
    "    'odds ratio': np.exp(model.params.values).round(4)\n",
    "    \n",
    "})\n",
    "print(model.summary(), '\\n' '\\n', coefs)"
   ]
  },
  {
   "cell_type": "code",
   "execution_count": 1492,
   "id": "94eb66a9-46d0-46c1-88eb-20fb965f23d5",
   "metadata": {},
   "outputs": [
    {
     "data": {
      "text/plain": [
       "109.91526987013471"
      ]
     },
     "execution_count": 1492,
     "metadata": {},
     "output_type": "execute_result"
    }
   ],
   "source": [
    "model.bic"
   ]
  },
  {
   "cell_type": "code",
   "execution_count": 1191,
   "id": "8429ed51-a1a1-41cb-88db-ff7e7038456a",
   "metadata": {},
   "outputs": [
    {
     "name": "stdout",
     "output_type": "stream",
     "text": [
      "Optimization terminated successfully.\n",
      "         Current function value: 0.503183\n",
      "         Iterations 766\n",
      "                           Logit Regression Results                           \n",
      "==============================================================================\n",
      "Dep. Variable:                 Eleito   No. Observations:                   68\n",
      "Model:                          Logit   Df Residuals:                       56\n",
      "Method:                           MLE   Df Model:                           11\n",
      "Date:                Sat, 15 Jun 2024   Pseudo R-squ.:                  0.1860\n",
      "Time:                        20:35:39   Log-Likelihood:                -34.216\n",
      "converged:                       True   LL-Null:                       -42.035\n",
      "Covariance Type:            nonrobust   LLR p-value:                    0.1552\n",
      "=========================================================================================================================================\n",
      "                                                                            coef    std err          z      P>|z|      [0.025      0.975]\n",
      "-----------------------------------------------------------------------------------------------------------------------------------------\n",
      "Intercept                                                                 1.8949      5.804      0.326      0.744      -9.481      13.271\n",
      "C(Situacao_oposicao, Treatment('Situação'))[T.Independente]             -58.0473    1.6e+12  -3.63e-11      1.000   -3.13e+12    3.13e+12\n",
      "C(Situacao_oposicao, Treatment('Situação'))[T.Oposição]                  -0.7248      0.774     -0.936      0.349      -2.242       0.792\n",
      "IMP                                                                       3.1543      1.560      2.022      0.043       0.096       6.212\n",
      "grau_estp                                                                -0.0707      0.279     -0.253      0.800      -0.618       0.476\n",
      "IMP:grau_estp                                                            -0.5708      1.324     -0.431      0.666      -3.165       2.023\n",
      "sit_econ2                                                                 0.7784      2.570      0.303      0.762      -4.258       5.815\n",
      "C(Situacao_oposicao, Treatment('Situação'))[T.Independente]:sit_econ2    -0.4463   2.01e+13  -2.22e-14      1.000   -3.94e+13    3.94e+13\n",
      "C(Situacao_oposicao, Treatment('Situação'))[T.Oposição]:sit_econ2        -2.5768      2.910     -0.886      0.376      -8.280       3.126\n",
      "desemprego                                                               -0.2090      0.147     -1.425      0.154      -0.496       0.078\n",
      "inflacao_CPI                                                             -0.1527      0.210     -0.726      0.468      -0.565       0.259\n",
      "Gini_index                                                               -0.0070      0.133     -0.052      0.958      -0.268       0.254\n",
      "=========================================================================================================================================\n",
      "\n",
      "Possibly complete quasi-separation: A fraction 0.10 of observations can be\n",
      "perfectly predicted. This might indicate that there is complete\n",
      "quasi-separation. In this case some parameters will not be identified. \n",
      "\n",
      "                                                  name   coef  odds ratio\n",
      "0                                           Intercept   1.89      6.6517\n",
      "1   C(Situacao_oposicao, Treatment('Situação'))[T.... -58.05      0.0000\n",
      "2   C(Situacao_oposicao, Treatment('Situação'))[T....  -0.72      0.4844\n",
      "3                                                 IMP   3.15     23.4371\n",
      "4                                           grau_estp  -0.07      0.9318\n",
      "5                                       IMP:grau_estp  -0.57      0.5651\n",
      "6                                           sit_econ2   0.78      2.1779\n",
      "7   C(Situacao_oposicao, Treatment('Situação'))[T....  -0.45      0.6400\n",
      "8   C(Situacao_oposicao, Treatment('Situação'))[T....  -2.58      0.0760\n",
      "9                                          desemprego  -0.21      0.8114\n",
      "10                                       inflacao_CPI  -0.15      0.8583\n",
      "11                                         Gini_index  -0.01      0.9931\n"
     ]
    }
   ],
   "source": [
    "\n",
    "model = smf.logit(\"Eleito ~ IMP*grau_estp + C(Situacao_oposicao, Treatment('Situação'))*sit_econ2 + desemprego + inflacao_CPI + Gini_index\", data = ofestim\n",
    "                 ).fit(maxiter = 8000)\n",
    "coefs = pd.DataFrame({'name': model.params.index.round(2),\n",
    "    'coef': model.params.values.round(2),\n",
    "    'odds ratio': np.exp(model.params.values).round(4)\n",
    "    \n",
    "})\n",
    "print(model.summary(), '\\n' '\\n', coefs)"
   ]
  },
  {
   "cell_type": "raw",
   "id": "68042081-b03a-4252-8617-a7cc99f7192a",
   "metadata": {},
   "source": [
    "\n",
    "O modelo apresenta Pseudo-R2 de 0.18. Ainda que em regressões logísticas ele tende a ser mais limitado que em lineares, reflete o tamanho limitado da amostra em análise (88 observações utilizadas, das 96 à disposição) a natureza complexa do fenômeno social observado. Escolher este modelo, fazer um teste de multicolinearidade (pesquisar o teste de multicolinearidade) entre ele e o com sit_econ2 no lugar de varPIB, e colocar o modelo com sit_econ2 no appendice, e discutir os efeitos. Lembrar que centrei os indicadores pra diminuir multicolinearidade. \n",
    "\n",
    "'Lower precision makes it more difficult to obtain statistically significant results. Additionally, wide CIs are more likely to cross zero, explaining why multicollinearity can cause coefficient signs to flip. In short, larger standard errors produce imprecise, unstable coefficient estimates and reduce statistical power.\n",
    "\n",
    "These are the classic effects of multicollinearity.' (https://statisticsbyjim.com/regression/variance-inflation-factors/)"
   ]
  },
  {
   "cell_type": "markdown",
   "id": "c5362bf1-b056-4126-bd79-1f43c3c2f0a9",
   "metadata": {},
   "source": [
    "# Testes de multicolinearidade"
   ]
  },
  {
   "cell_type": "code",
   "execution_count": 1261,
   "id": "ba06d17a-cd03-4fe7-af95-ba1b73a1e6c2",
   "metadata": {},
   "outputs": [
    {
     "data": {
      "text/plain": [
       "0.11393442687497513"
      ]
     },
     "execution_count": 1261,
     "metadata": {},
     "output_type": "execute_result"
    }
   ],
   "source": [
    "model.prsquared()"
   ]
  },
  {
   "cell_type": "code",
   "execution_count": 1429,
   "id": "0c42e45a-b8d5-411e-9939-42feaa1f0a60",
   "metadata": {},
   "outputs": [
    {
     "data": {
      "image/png": "[encoded data removed]",
      "text/plain": [
       "<Figure size 600x600 with 5 Axes>"
      ]
     },
     "metadata": {},
     "output_type": "display_data"
    }
   ],
   "source": [
    "\n",
    "# multiplot inserindo tabela \n",
    "X1 = ofestim[['IMP', 'grau_est', 'opind', 'var_anual_PIBpercapita', 'match_probtema_maincats']]\n",
    "X2 = ofestim[['IMP', 'sit_econ2', 'opind', 'var_anual_PIBpercapita', 'match_probtema_maincats']]\n",
    "X3 = ofestim[['IMP', 'sit_econ2', 'opind', 'match_probtema_maincats']]\n",
    "\n",
    "# Correlation matrix\n",
    "sns.set_style(rc={'ytick.left': True})\n",
    "\n",
    "#plt.figure(figsize=(6,5))\n",
    "\n",
    "fig, axes = plt.subplot_mosaic([[0,1], [2, 3]], height_ratios=[5,4], figsize=(6, 6))\n",
    "\n",
    "# plot correlation matrix\n",
    "h1 = sns.heatmap(X.corr(), annot=True, xticklabels = ['IMP', 'GE', 'SIT', 'PIB', 'Res'],\n",
    "                yticklabels = ['IMP', 'GE', 'SIT', 'PIB', 'Res'], cbar = False, annot_kws={'fontsize': 8}, ax = axes[0])\n",
    "axes[0].tick_params(labelsize=8)\n",
    "axes[0].set_yticklabels(axes[0].get_yticklabels(), rotation=0) \n",
    "axes[0].tick_params(axis='y', which='both', length=5)  # length ajusta o comprimento dos ticks\n",
    "axes[0].set_title('Modelo I', fontsize=10, style ='italic')\n",
    "\n",
    "\n",
    "h2 = sns.heatmap(X2.corr(), annot=True, xticklabels = ['IMP', 'AVA', 'SIT', 'PIB', 'Res'],\n",
    "            yticklabels = ['IMP', 'AVA', 'SIT', 'PIB', 'Res'], cbar = False, annot_kws={'fontsize': 8}, ax = axes[1])\n",
    "axes[1].tick_params(labelsize=8)\n",
    "axes[1].yaxis.tick_right()\n",
    "axes[1].set_yticklabels(axes[1].get_yticklabels(), rotation=0) \n",
    "axes[1].set_title('Modelo II', fontsize=10, style ='italic')\n",
    "\n",
    "h3 = sns.heatmap(X3.corr(), annot=True, xticklabels = ['IMP', 'AVA', 'SIT', 'Res'],\n",
    "            yticklabels = ['IMP', 'AVA', 'SIT', 'Res'], cbar = True, annot_kws={'fontsize': 8}, ax = axes[2])\n",
    "axes[2].tick_params(labelsize=8)\n",
    "axes[2].set_yticklabels(axes[2].get_yticklabels(), rotation=0) \n",
    "axes[2].set_title('Modelo III', fontsize=10, style ='italic')\n",
    "\n",
    "cbar = h3.collections[0].colorbar\n",
    "cbar.ax.tick_params(labelsize=8)\n",
    "axes[3].axis('off')\n",
    "##\n",
    "# Dados da tabela (valores numéricos)\n",
    "data = [\n",
    "    [48, 269, 317],\n",
    "    [760, 1835, 2595]\n",
    "]\n",
    "\n",
    "\n",
    "# Posicionamento da tabela usando plt.table()\n",
    "table = axes[3].table(cellText=data,\n",
    "                 rowLabels=['VIF 1', 'VIF 2'],\n",
    "                 colLabels=['Modelo I', 'Modelo II', 'Modelo III'],\n",
    "                 loc='center', cellLoc='center', bbox=[0, 0.5, 0.5, 0.2])\n",
    "\n",
    "table.auto_set_font_size(False)\n",
    "table.set_fontsize(10)\n",
    "table.scale(1, 1)  # Ajusta o tamanho da tabela\n",
    "\n",
    "\n",
    "# Adicionando título\n",
    "axes[3].annotate('VIF dos modelos', (0, -0.35), xycoords='axes fraction', ha='right', fontsize=10)\n",
    "#axes[3].set_title('VIF dos modelos antes e\\npós centralização', fontsize)\n",
    "\n",
    "# Adicionando fonte abaixo da tabela\n",
    "#axes[3].text(0, 0, \"Fonte: Elaborado pelo autor\", ha='center', va='center', transform=ax.transAxes)\n",
    "##\n",
    "plt.subplots_adjust(wspace=0.05, hspace = 0.25)\n",
    "plt.show()"
   ]
  },
  {
   "cell_type": "markdown",
   "id": "21576cb9-d6eb-4495-84e5-7d41f05c8dd5",
   "metadata": {},
   "source": [
    "\n",
    "Colocar este último modelo de R2 de 0.1755, descrevendo o que fiz e comparando com possíveis modelos alternativos:\n",
    "- Usei percepção da avaliação econômica para calcular o grau de estresse, e PIB para avaliar impacto da economia na situação da campanha (também para evitar multicolinearidade - comparar o VIF substituindo entre si os indicadores);\n",
    "- Mostrar como mediquei a multicolinearidade: centralizei as variáveis (\"(Aiken & West, 1991) to improve the interpretation of the lower order effects, β 1 and β 2, sometimes referred to as main effects. Centering or creating deviation scores, which involves subtracting the mean from each predictor’s original value, reduces multicollinearity among the predictors when these new variables are used in the model - https://web.pdx.edu/~newsomj/cdaclass/ho_interactions.pdf), mostrar o antes e depois do VIF e o heatmap\n",
    "- Usar aqueles testes de chow nao sei o que só pra ver se alguma observação está enviesando muito o modelo."
   ]
  },
  {
   "cell_type": "markdown",
   "id": "2cf31499-96f5-4dea-9053-540744146e9e",
   "metadata": {},
   "source": [
    "# Plotar o gráfico de probabilidades"
   ]
  },
  {
   "cell_type": "markdown",
   "id": "7f763cfa-8b36-4fbf-a5e4-bd6a757943c3",
   "metadata": {
    "jp-MarkdownHeadingCollapsed": true,
    "tags": []
   },
   "source": [
    "## Calculating probabilities straight from the model"
   ]
  },
  {
   "cell_type": "code",
   "execution_count": 10,
   "id": "902ae052-2c2b-4aee-afdb-eb47503ff70e",
   "metadata": {
    "tags": []
   },
   "outputs": [
    {
     "name": "stdout",
     "output_type": "stream",
     "text": [
      "Optimization terminated successfully.\n",
      "         Current function value: 0.539078\n",
      "         Iterations 6\n"
     ]
    }
   ],
   "source": [
    "\n",
    "# Model\n",
    "\n",
    "model1 = smf.logit(\"Eleito ~ IMP*sit_econ2 + C(opind)*var_anual_PIBpercapita + match_probtema_maincats\", data = av).fit()\n",
    "\n",
    "# Generating sample with original IMP range\n",
    "IMP_range = np.linspace(av['IMP'].min(), av['IMP'].max(), 100)\n",
    "\n",
    "#Probabilities database for situation, match = 0, inferior percentil econ\n",
    "\n",
    "# Fixing covariates values\n",
    "\n",
    "sit_econ2_fix = av.sit_econ2.min()\n",
    "opind_fix = 0\n",
    "pib_mean = av.var_anual_PIBpercapita.mean()\n",
    "match_probtema_maincats_fix = 0\n",
    "\n",
    "# Dataframe with the covariates to predict\n",
    "sitinf = pd.DataFrame({\n",
    "    'IMP': IMP_range,\n",
    "    'sit_econ2': sit_econ2_fix,\n",
    "    'opind': opind_fix,\n",
    "    'var_anual_PIBpercapita': pib_mean,\n",
    "    'match_probtema_maincats': match_probtema_maincats_fix\n",
    "})\n",
    "\n",
    "# Adding interactions\n",
    "sitinf['IMP*sit_econ2'] = sitinf['IMP'] * sitinf['sit_econ2']\n",
    "sitinf['C(opind)[T.{opind_mode}]'] = 0  # Include categorical variable opind\n",
    "sitinf['C(opind)[T.{opind_mode}]*var_anual_PIBpercapita'] = sitinf['var_anual_PIBpercapita']\n",
    "\n",
    "# Predict probabilities\n",
    "sitinf = model1.predict(sitinf)\n",
    "\n",
    "#Probabilities database for situation, match = 0, superior percentil econ\n",
    "\n",
    "# Fixing covariates values\n",
    "\n",
    "sit_econ2_fix = av.sit_econ2.max()\n",
    "opind_fix = 0\n",
    "pib_mean = av.var_anual_PIBpercapita.mean()\n",
    "match_probtema_maincats_fix = 0\n",
    "\n",
    "# Dataframe with the covariates to predict\n",
    "sitsup = pd.DataFrame({\n",
    "    'IMP': IMP_range,\n",
    "    'sit_econ2': sit_econ2_fix,\n",
    "    'opind': opind_fix,\n",
    "    'var_anual_PIBpercapita': pib_mean,\n",
    "    'match_probtema_maincats': match_probtema_maincats_fix\n",
    "})\n",
    "\n",
    "# Adding interactions\n",
    "sitsup['IMP*sit_econ2'] = sitsup['IMP'] * sitsup['sit_econ2']\n",
    "sitsup['C(opind)[T.{opind_mode}]'] = 0  # Include categorical variable opind\n",
    "sitsup['C(opind)[T.{opind_mode}]*var_anual_PIBpercapita'] = sitsup['var_anual_PIBpercapita']\n",
    "\n",
    "# Predict probabilities\n",
    "sitsup = model1.predict(sitsup)\n",
    "\n",
    "#Probabilities database for oposition, match = 0, inferior percentil econ\n",
    "\n",
    "# Fixing covariates values\n",
    "\n",
    "sit_econ2_fix = av.sit_econ2.min()\n",
    "opind_fix = 1 \n",
    "pib_mean = av.var_anual_PIBpercapita.mean()\n",
    "match_probtema_maincats_fix = 0\n",
    "\n",
    "# Dataframe with the covariates to predict\n",
    "opinf = pd.DataFrame({\n",
    "    'IMP': IMP_range,\n",
    "    'sit_econ2': sit_econ2_fix,\n",
    "    'opind': opind_fix,\n",
    "    'var_anual_PIBpercapita': pib_mean,\n",
    "    'match_probtema_maincats': match_probtema_maincats_fix\n",
    "})\n",
    "\n",
    "# Adding interactions\n",
    "opinf['IMP*sit_econ2'] = opinf['IMP'] * opinf['sit_econ2']\n",
    "opinf['C(opind)[T.{opind_mode}]'] = 1  # Include categorical variable opind\n",
    "opinf['C(opind)[T.{opind_mode}]*var_anual_PIBpercapita'] = opinf['var_anual_PIBpercapita']\n",
    "\n",
    "# Predict probabilities\n",
    "opinf = model1.predict(opinf)\n",
    "\n",
    "#Probabilities database for oposition, match = 0, superior percentil econ\n",
    "\n",
    "# Fixing covariates values\n",
    "\n",
    "sit_econ2_fix = av.sit_econ2.max()\n",
    "opind_fix = 1 \n",
    "pib_mean = av.var_anual_PIBpercapita.mean()\n",
    "match_probtema_maincats_fix = 0\n",
    "\n",
    "# Dataframe with the covariates to predict\n",
    "opsup = pd.DataFrame({\n",
    "    'IMP': IMP_range,\n",
    "    'sit_econ2': sit_econ2_fix,\n",
    "    'opind': opind_fix,\n",
    "    'var_anual_PIBpercapita': pib_mean,\n",
    "    'match_probtema_maincats': match_probtema_maincats_fix\n",
    "})\n",
    "\n",
    "# Adding interactions\n",
    "opsup['IMP*sit_econ2'] = opsup['IMP'] * opsup['sit_econ2']\n",
    "opsup['C(opind)[T.{opind_mode}]'] = 1  # Include categorical variable opind\n",
    "opsup['C(opind)[T.{opind_mode}]*var_anual_PIBpercapita'] = opsup['var_anual_PIBpercapita']\n",
    "\n",
    "# Predict probabilities\n",
    "opsup = model1.predict(opsup)"
   ]
  },
  {
   "cell_type": "code",
   "execution_count": 12,
   "id": "1e6649a1-5d30-425c-99d4-3b262261ee6d",
   "metadata": {
    "tags": []
   },
   "outputs": [],
   "source": [
    "\n",
    "#Probabilities database for situation, match = 0, inferior percentil econ\n",
    "\n",
    "# Fixing covariates values\n",
    "\n",
    "sit_econ2_fix = av.sit_econ2.min()\n",
    "opind_fix = 0\n",
    "pib_mean = av.var_anual_PIBpercapita.mean()\n",
    "match_probtema_maincats_fix = 1\n",
    "\n",
    "# Dataframe with the covariates to predict\n",
    "sitinfma = pd.DataFrame({\n",
    "    'IMP': IMP_range,\n",
    "    'sit_econ2': sit_econ2_fix,\n",
    "    'opind': opind_fix,\n",
    "    'var_anual_PIBpercapita': pib_mean,\n",
    "    'match_probtema_maincats': match_probtema_maincats_fix\n",
    "})\n",
    "\n",
    "# Adding interactions\n",
    "sitinfma['IMP*sit_econ2'] = sitinfma['IMP'] * sitinfma['sit_econ2']\n",
    "sitinfma['C(opind)[T.{opind_mode}]'] = 0  # Include categorical variable opind\n",
    "sitinfma['C(opind)[T.{opind_mode}]*var_anual_PIBpercapita'] = sitinfma['var_anual_PIBpercapita']\n",
    "\n",
    "# Predict probabilities\n",
    "sitinfma = model1.predict(sitinfma)\n",
    "\n",
    "#Probabilities database for situation, match = 1, superior percentil econ\n",
    "\n",
    "# Fixing covariates values\n",
    "\n",
    "sit_econ2_fix = av.sit_econ2.max()\n",
    "opind_fix = 0\n",
    "pib_mean = av.var_anual_PIBpercapita.mean()\n",
    "match_probtema_maincats_fix = 1\n",
    "\n",
    "# Dataframe with the covariates to predict\n",
    "sitsupma = pd.DataFrame({\n",
    "    'IMP': IMP_range,\n",
    "    'sit_econ2': sit_econ2_fix,\n",
    "    'opind': opind_fix,\n",
    "    'var_anual_PIBpercapita': pib_mean,\n",
    "    'match_probtema_maincats': match_probtema_maincats_fix\n",
    "})\n",
    "\n",
    "# Adding interactions\n",
    "sitsupma['IMP*sit_econ2'] = sitsupma['IMP'] * sitsupma['sit_econ2']\n",
    "sitsupma['C(opind)[T.{opind_mode}]'] = 0  # Include categorical variable opind\n",
    "sitsupma['C(opind)[T.{opind_mode}]*var_anual_PIBpercapita'] = sitsupma['var_anual_PIBpercapita']\n",
    "\n",
    "# Predict probabilities\n",
    "sitsupma = model1.predict(sitsupma)\n",
    "\n",
    "#Probabilities database for oposition, match = 1, inferior percentil econ\n",
    "\n",
    "# Fixing covariates values\n",
    "\n",
    "sit_econ2_fix = av.sit_econ2.min()\n",
    "opind_fix = 1 \n",
    "pib_mean = av.var_anual_PIBpercapita.mean()\n",
    "match_probtema_maincats_fix = 1\n",
    "\n",
    "# Dataframe with the covariates to predict\n",
    "opinfma = pd.DataFrame({\n",
    "    'IMP': IMP_range,\n",
    "    'sit_econ2': sit_econ2_fix,\n",
    "    'opind': opind_fix,\n",
    "    'var_anual_PIBpercapita': pib_mean,\n",
    "    'match_probtema_maincats': match_probtema_maincats_fix\n",
    "})\n",
    "\n",
    "# Adding interactions\n",
    "opinfma['IMP*sit_econ2'] = opinfma['IMP'] * opinfma['sit_econ2']\n",
    "opinfma['C(opind)[T.{opind_mode}]'] = 1  # Include categorical variable opind\n",
    "opinfma['C(opind)[T.{opind_mode}]*var_anual_PIBpercapita'] = opinfma['var_anual_PIBpercapita']\n",
    "\n",
    "# Predict probabilities\n",
    "opinfma = model1.predict(opinfma)\n",
    "\n",
    "#Probabilities database for oposition, match = 1, superior percentil econ\n",
    "\n",
    "# Fixing covariates values\n",
    "\n",
    "sit_econ2_fix = av.sit_econ2.max()\n",
    "opind_fix = 1 \n",
    "pib_mean = av.var_anual_PIBpercapita.mean()\n",
    "match_probtema_maincats_fix = 1\n",
    "\n",
    "# Dataframe with the covariates to predict\n",
    "opsupma = pd.DataFrame({\n",
    "    'IMP': IMP_range,\n",
    "    'sit_econ2': sit_econ2_fix,\n",
    "    'opind': opind_fix,\n",
    "    'var_anual_PIBpercapita': pib_mean,\n",
    "    'match_probtema_maincats': match_probtema_maincats_fix\n",
    "})\n",
    "\n",
    "# Adding interactions\n",
    "opsupma['IMP*sit_econ2'] = opsupma['IMP'] * opsupma['sit_econ2']\n",
    "opsupma['C(opind)[T.{opind_mode}]'] = 1  # Include categorical variable opind\n",
    "opsupma['C(opind)[T.{opind_mode}]*var_anual_PIBpercapita'] = opsupma['var_anual_PIBpercapita']\n",
    "\n",
    "# Predict probabilities\n",
    "opsupma = model1.predict(opsupma)"
   ]
  },
  {
   "cell_type": "markdown",
   "id": "97f993e7-a455-4617-b31b-e64d4b266f1e",
   "metadata": {},
   "source": [
    "## Plotting the graphs "
   ]
  },
  {
   "cell_type": "code",
   "execution_count": 41,
   "id": "f2686f10-59db-4c75-876d-3a5131f776af",
   "metadata": {
    "jupyter": {
     "source_hidden": true
    },
    "tags": []
   },
   "outputs": [
    {
     "data": {
      "image/png": "[encoded data removed]",
      "text/plain": [
       "<Figure size 800x600 with 4 Axes>"
      ]
     },
     "metadata": {},
     "output_type": "display_data"
    }
   ],
   "source": [
    "sitinfunmat = pd.read_csv('Bases finais/Probabilidades preditas/sitinfunmat.csv')\n",
    "IMP_range = sitinfunmat.IMP\n",
    "sitinf = sitinfunmat.predict\n",
    "\n",
    "opinfunmat = pd.read_csv('Bases finais/Probabilidades preditas/opinfunmat.csv')\n",
    "opinf = opinfunmat.predict\n",
    "\n",
    "sitsupunmat = pd.read_csv('Bases finais/Probabilidades preditas/sitsupunmat.csv')\n",
    "sitsup = sitsupunmat.predict\n",
    "\n",
    "opsupunmat = pd.read_csv('Bases finais/Probabilidades preditas/opsupunmat.csv')\n",
    "opsup = opsupunmat.predict\n",
    "\n",
    "sitinfmat = pd.read_csv('Bases finais/Probabilidades preditas/sitinfmat.csv')\n",
    "sitinfma = sitinfmat.predict\n",
    "\n",
    "opinfmat = pd.read_csv('Bases finais/Probabilidades preditas/opinfmat.csv')\n",
    "opinfma = opinfmat.predict\n",
    "\n",
    "sitsupmat = pd.read_csv('Bases finais/Probabilidades preditas/sitsupmat.csv')\n",
    "sitsupma = sitsupmat.predict\n",
    "\n",
    "opsupmat = pd.read_csv('Bases finais/Probabilidades preditas/opsupmat.csv')\n",
    "opsupma = opsupmat.predict\n",
    "\n",
    "# Plotar os resultados\n",
    "fig, axes = plt.subplots(2, 2, sharey = True, sharex = True, figsize=(8, 6))\n",
    "\n",
    "# Gráfico 1 - Percentil inferior\n",
    "# sitinfmat\n",
    "axes[0,0].plot(IMP_range, sitinfma, label = 'Campanhas de situação', color='#1f77b4')\n",
    "axes[0,0].plot(IMP_range, opinfma, label = 'Campanhas de oposição', color = '#ff7f0e')\n",
    "#axes[0,0].set_xlabel('IMP')\n",
    "#axes[0,0].set_ylabel('P(E)')\n",
    "axes[0,0].set_title('Má avaliação média da economia', style = 'italic', fontsize = 10)\n",
    "axes[0,0].legend(fontsize = 8, loc = 'lower left')\n",
    "axes[0,0].grid(True)\n",
    "axes[0,0].tick_params(axis='both', length=0)\n",
    "axes[0,0].set_yticks(np.arange(0, 7, 0.1))\n",
    "\n",
    "# Gráfico 2 - Percentil superior\n",
    "axes[0,1].plot(IMP_range, sitsupma, label = 'Campanhas de situação', color='#1f77b4')\n",
    "axes[0,1].plot(IMP_range, opsupma, label = 'Campanhas de oposição', color = '#ff7f0e')\n",
    "#axes[0,1].set_xlabel('IMP')\n",
    "#axes[0,1].set_ylabel('P(E)')\n",
    "axes[0,1].set_title('Ótima avaliação média da economia', style = 'italic', fontsize = 10)\n",
    "#axes[0,1].legend(fontsize = 8)\n",
    "axes[0,1].grid(True)\n",
    "axes[0,1].tick_params(axis='both', length=0)\n",
    "\n",
    "# Gráfico 3 - Percentil inferior\n",
    "# sitinfunmat\n",
    "axes[1,0].plot(IMP_range, sitinf, label = 'Campanhas de situação', color='#1f77b4')\n",
    "axes[1,0].plot(IMP_range, opinf, label = 'Campanhas de oposição', color = '#ff7f0e')\n",
    "#axes[1,0].set_xlabel('IMP')\n",
    "#axes[1,0].set_ylabel('P(E)')\n",
    "#axes[1,0].legend(fontsize=8)\n",
    "axes[1,0].grid(True)\n",
    "axes[1,0].tick_params(axis='both', length=0)\n",
    "axes[1,0].set_yticks(np.arange(0, 7, 0.1))\n",
    "\n",
    "# Gráfico 4 - Percentil superior\n",
    "axes[1,1].plot(IMP_range, sitsup)\n",
    "axes[1,1].plot(IMP_range, opsup)\n",
    "#axes[1,1].set_xlabel('IMP')\n",
    "#axes[1,1].set_ylabel('P(E)')\n",
    "#axes[1,1].legend()\n",
    "axes[1,1].grid(True)\n",
    "axes[1,1].tick_params(axis='both', length=0)\n",
    "\n",
    "# Responsivity 0 \n",
    "\n",
    "fig.text(\n",
    "    0.51, 1,\n",
    "    \"Quando campanhas e eleitores focam nos mesmos problemas\",\n",
    "    ha=\"center\",\n",
    "    va=\"bottom\",    \n",
    "    color=\"black\",\n",
    "    fontsize=10, style = 'italic'\n",
    ")\n",
    "\n",
    "# Responsivity 1 \n",
    "\n",
    "fig.text(\n",
    "    0.51, 0.48,\n",
    "    \"Quando campanhas e eleitores focam em problemas distintos\",    \n",
    "    ha=\"center\",\n",
    "    va=\"bottom\",    \n",
    "    color=\"black\",\n",
    "    fontsize=10, style = 'italic'\n",
    ")\n",
    "\n",
    "\n",
    "# Y label\n",
    "\n",
    "plt.text(\n",
    "    -1.75, 1.53,\n",
    "    \"Probabilidades de serem eleitas ($P(E)$)\",\n",
    "    ha=\"center\",\n",
    "    va=\"top\",    \n",
    "    fontsize=10, \n",
    "    color=\"black\", rotation=90\n",
    ")\n",
    "\n",
    "# X Label\n",
    "\n",
    "fig.text(\n",
    "    0.51, -0.02,\n",
    "    \"Tipo de mobilização ($IMP$)\",\n",
    "    ha=\"center\",\n",
    "    va=\"bottom\",    \n",
    "    color=\"black\",\n",
    "    fontsize=10\n",
    ")\n",
    "\n",
    "# footnote source \n",
    "\n",
    "fig.text(\n",
    "    0.51, -0.065,\n",
    "    \"Fonte: Elaborado pelo autor, a partir do modelo desenvolvido.\",\n",
    "    ha=\"center\",\n",
    "    va=\"bottom\",    \n",
    "    color=\"black\",\n",
    "    fontsize=10\n",
    ")\n",
    "\n",
    "\n",
    "plt.tight_layout()\n",
    "fig.subplots_adjust(hspace = 0.2, wspace=0.02)\n",
    "#plt.show()"
   ]
  },
  {
   "cell_type": "markdown",
   "id": "15b695b9-1a78-40ba-b2cc-89823e39d3df",
   "metadata": {},
   "source": [
    "\n",
    "- A tendência paralela entre as retas mostra que o efeito de X em Y é o mesmo tanto para campanhas de situação quanto de oposição."
   ]
  },
  {
   "cell_type": "code",
   "execution_count": null,
   "id": "c4b4f2e8-d418-42c5-ba3e-c4fe49aef51b",
   "metadata": {},
   "outputs": [],
   "source": [
    "sns.regplot = (x = 'IMP', y = '')"
   ]
  },
  {
   "cell_type": "code",
   "execution_count": 63,
   "id": "4911a94d-847f-409c-9489-ac5a5248796f",
   "metadata": {},
   "outputs": [
    {
     "data": {
      "text/plain": [
       "0     2.422013e-10\n",
       "1     2.358753e-10\n",
       "2     2.297145e-10\n",
       "3     2.237146e-10\n",
       "4     2.178715e-10\n",
       "          ...     \n",
       "95    1.959940e-11\n",
       "96    1.908748e-11\n",
       "97    1.858894e-11\n",
       "98    1.810342e-11\n",
       "99    1.763058e-11\n",
       "Length: 100, dtype: float64"
      ]
     },
     "execution_count": 63,
     "metadata": {},
     "output_type": "execute_result"
    }
   ],
   "source": [
    "predicted_probs"
   ]
  },
  {
   "cell_type": "code",
   "execution_count": null,
   "id": "c4e36f92-9c43-4f5a-bee6-8bd5674cdba1",
   "metadata": {},
   "outputs": [],
   "source": []
  }
 ],
 "metadata": {
  "kernelspec": {
   "display_name": "tese_env",
   "language": "python",
   "name": "tese_env"
  },
  "language_info": {
   "codemirror_mode": {
    "name": "ipython",
    "version": 3
   },
   "file_extension": ".py",
   "mimetype": "text/x-python",
   "name": "python",
   "nbconvert_exporter": "python",
   "pygments_lexer": "ipython3",
   "version": "3.9.10"
  }
 },
 "nbformat": 4,
 "nbformat_minor": 5
}
